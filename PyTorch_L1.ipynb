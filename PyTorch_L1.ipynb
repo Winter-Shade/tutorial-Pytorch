{
  "nbformat": 4,
  "nbformat_minor": 0,
  "metadata": {
    "colab": {
      "provenance": [],
      "gpuType": "T4",
      "authorship_tag": "ABX9TyNqgk7xufxPm1tUy2UE/fda",
      "include_colab_link": true
    },
    "kernelspec": {
      "name": "python3",
      "display_name": "Python 3"
    },
    "language_info": {
      "name": "python"
    },
    "accelerator": "GPU"
  },
  "cells": [
    {
      "cell_type": "markdown",
      "metadata": {
        "id": "view-in-github",
        "colab_type": "text"
      },
      "source": [
        "<a href=\"https://colab.research.google.com/github/Winter-Shade/tutorial-Pytorch/blob/main/PyTorch_L1.ipynb\" target=\"_parent\"><img src=\"https://colab.research.google.com/assets/colab-badge.svg\" alt=\"Open In Colab\"/></a>"
      ]
    },
    {
      "cell_type": "code",
      "execution_count": 1,
      "metadata": {
        "id": "m34nvDcFBydO"
      },
      "outputs": [],
      "source": [
        "import torch"
      ]
    },
    {
      "cell_type": "code",
      "source": [
        "torch.__version__"
      ],
      "metadata": {
        "colab": {
          "base_uri": "https://localhost:8080/",
          "height": 35
        },
        "id": "k5pG-5xdCSa4",
        "outputId": "8f502698-4c09-43d0-f49b-e799827835f1"
      },
      "execution_count": 2,
      "outputs": [
        {
          "output_type": "execute_result",
          "data": {
            "text/plain": [
              "'2.5.1+cu124'"
            ],
            "application/vnd.google.colaboratory.intrinsic+json": {
              "type": "string"
            }
          },
          "metadata": {},
          "execution_count": 2
        }
      ]
    },
    {
      "cell_type": "code",
      "source": [
        "if torch.cuda.is_available():\n",
        "  print(\"GPU Available\")\n",
        "  print(f'Device Name: {torch.cuda.get_device_name(0)}')\n",
        "else:\n",
        "  print(\"GPU not available, using CPU\")"
      ],
      "metadata": {
        "colab": {
          "base_uri": "https://localhost:8080/"
        },
        "id": "e8f-mn_CCUWX",
        "outputId": "629d8879-3cdd-48f1-86c5-5e7a1d6b5828"
      },
      "execution_count": 3,
      "outputs": [
        {
          "output_type": "stream",
          "name": "stdout",
          "text": [
            "GPU Available\n",
            "Device Name: Tesla T4\n"
          ]
        }
      ]
    },
    {
      "cell_type": "code",
      "source": [],
      "metadata": {
        "id": "rGxZtKs9CptF"
      },
      "execution_count": null,
      "outputs": []
    },
    {
      "cell_type": "markdown",
      "source": [
        "## Tensors\n"
      ],
      "metadata": {
        "id": "oGKAww2oDZ7-"
      }
    },
    {
      "cell_type": "code",
      "source": [
        "# empty - allocates memory\n",
        "a = torch.empty(3, 2)\n",
        "a, type(a)"
      ],
      "metadata": {
        "colab": {
          "base_uri": "https://localhost:8080/"
        },
        "id": "QrWOtaGLDczJ",
        "outputId": "6969fddf-fd01-483b-dc91-86bd4d0295c1"
      },
      "execution_count": 9,
      "outputs": [
        {
          "output_type": "execute_result",
          "data": {
            "text/plain": [
              "(tensor([[9.6849e-34, 0.0000e+00],\n",
              "         [0.0000e+00, 2.3510e-38],\n",
              "         [3.9818e-37, 0.0000e+00]]),\n",
              " torch.Tensor)"
            ]
          },
          "metadata": {},
          "execution_count": 9
        }
      ]
    },
    {
      "cell_type": "code",
      "source": [
        "#zeros\n",
        "torch.zeros(2,3)"
      ],
      "metadata": {
        "colab": {
          "base_uri": "https://localhost:8080/"
        },
        "id": "ifWWGUM9Dfxm",
        "outputId": "ca56351b-9027-4ae8-eb72-cbbfad7df071"
      },
      "execution_count": 10,
      "outputs": [
        {
          "output_type": "execute_result",
          "data": {
            "text/plain": [
              "tensor([[0., 0., 0.],\n",
              "        [0., 0., 0.]])"
            ]
          },
          "metadata": {},
          "execution_count": 10
        }
      ]
    },
    {
      "cell_type": "code",
      "source": [
        "#ones\n",
        "torch.ones(1,6, dtype=torch.int32)"
      ],
      "metadata": {
        "colab": {
          "base_uri": "https://localhost:8080/"
        },
        "id": "3gRhSRN-Dt8G",
        "outputId": "60e27575-81f0-4e27-8ca5-d2913505f9fa"
      },
      "execution_count": 15,
      "outputs": [
        {
          "output_type": "execute_result",
          "data": {
            "text/plain": [
              "tensor([[1, 1, 1, 1, 1, 1]], dtype=torch.int32)"
            ]
          },
          "metadata": {},
          "execution_count": 15
        }
      ]
    },
    {
      "cell_type": "code",
      "source": [
        "# rand and manual_seed\n",
        "torch.manual_seed(120)\n",
        "torch.rand(2,3, dtype=torch.float16)"
      ],
      "metadata": {
        "colab": {
          "base_uri": "https://localhost:8080/"
        },
        "id": "EnS7YBUvDwER",
        "outputId": "c1966a06-d2f6-4660-8fd4-c8994788f904"
      },
      "execution_count": 21,
      "outputs": [
        {
          "output_type": "execute_result",
          "data": {
            "text/plain": [
              "tensor([[0.8315, 0.8750, 0.5771],\n",
              "        [0.3589, 0.6865, 0.0049]], dtype=torch.float16)"
            ]
          },
          "metadata": {},
          "execution_count": 21
        }
      ]
    },
    {
      "cell_type": "code",
      "source": [
        "# tensor\n",
        "torch.tensor([[1, 1, 2, 5], [2, 3, 4, 9]])"
      ],
      "metadata": {
        "colab": {
          "base_uri": "https://localhost:8080/"
        },
        "id": "4Fy8MGGjE72o",
        "outputId": "7efeeded-23b8-439d-ee7f-c6fe0119fc4c"
      },
      "execution_count": 26,
      "outputs": [
        {
          "output_type": "execute_result",
          "data": {
            "text/plain": [
              "tensor([[1, 1, 2, 5],\n",
              "        [2, 3, 4, 9]])"
            ]
          },
          "metadata": {},
          "execution_count": 26
        }
      ]
    },
    {
      "cell_type": "code",
      "source": [
        "#other options - linspace, arange, eye, full\n",
        "torch.eye(3) #identity matrix"
      ],
      "metadata": {
        "colab": {
          "base_uri": "https://localhost:8080/"
        },
        "id": "tENW3n1BFN0X",
        "outputId": "1b792215-fd4c-404b-ff3f-a493ebe95d94"
      },
      "execution_count": 28,
      "outputs": [
        {
          "output_type": "execute_result",
          "data": {
            "text/plain": [
              "tensor([[1., 0., 0.],\n",
              "        [0., 1., 0.],\n",
              "        [0., 0., 1.]])"
            ]
          },
          "metadata": {},
          "execution_count": 28
        }
      ]
    },
    {
      "cell_type": "code",
      "source": [
        "torch.full((2,3), 100)"
      ],
      "metadata": {
        "colab": {
          "base_uri": "https://localhost:8080/"
        },
        "id": "AMgJoJRQFvIo",
        "outputId": "843e4d63-08a6-4e9a-a97f-be2d57c11c50"
      },
      "execution_count": 29,
      "outputs": [
        {
          "output_type": "execute_result",
          "data": {
            "text/plain": [
              "tensor([[100, 100, 100],\n",
              "        [100, 100, 100]])"
            ]
          },
          "metadata": {},
          "execution_count": 29
        }
      ]
    },
    {
      "cell_type": "markdown",
      "source": [
        "## Tensor Shapes\n"
      ],
      "metadata": {
        "id": "36RKP9D-Gjaz"
      }
    },
    {
      "cell_type": "code",
      "source": [
        "x = torch.tensor([[1], [4]])\n",
        "x.shape"
      ],
      "metadata": {
        "colab": {
          "base_uri": "https://localhost:8080/"
        },
        "id": "1oqGADvlF2fl",
        "outputId": "c9d11e3f-48d8-4b59-b1b2-866186f4c07c"
      },
      "execution_count": 38,
      "outputs": [
        {
          "output_type": "execute_result",
          "data": {
            "text/plain": [
              "torch.Size([2, 1])"
            ]
          },
          "metadata": {},
          "execution_count": 38
        }
      ]
    },
    {
      "cell_type": "code",
      "source": [
        "a = torch.empty_like(x)\n",
        "a"
      ],
      "metadata": {
        "colab": {
          "base_uri": "https://localhost:8080/"
        },
        "id": "YKRRavDhGsZ7",
        "outputId": "d58dfffe-d89a-4ecd-91d1-370148fc3b19"
      },
      "execution_count": 40,
      "outputs": [
        {
          "output_type": "execute_result",
          "data": {
            "text/plain": [
              "tensor([[283047579811840],\n",
              "        [            372]])"
            ]
          },
          "metadata": {},
          "execution_count": 40
        }
      ]
    },
    {
      "cell_type": "code",
      "source": [
        "b = torch.ones_like(x, dtype=torch.float64)\n",
        "b"
      ],
      "metadata": {
        "colab": {
          "base_uri": "https://localhost:8080/"
        },
        "id": "7US8QoS0Gupj",
        "outputId": "3dd57c5a-4c4b-4cd1-f029-f3f52c6890cc"
      },
      "execution_count": 41,
      "outputs": [
        {
          "output_type": "execute_result",
          "data": {
            "text/plain": [
              "tensor([[1.],\n",
              "        [1.]], dtype=torch.float64)"
            ]
          },
          "metadata": {},
          "execution_count": 41
        }
      ]
    },
    {
      "cell_type": "code",
      "source": [
        "y = torch.rand_like(x, dtype=torch.float32)\n",
        "y"
      ],
      "metadata": {
        "colab": {
          "base_uri": "https://localhost:8080/"
        },
        "id": "tefIR4JRGzZg",
        "outputId": "9e67df5f-059e-42f1-fc2d-bb9b58f2715e"
      },
      "execution_count": 50,
      "outputs": [
        {
          "output_type": "execute_result",
          "data": {
            "text/plain": [
              "tensor([[0.8265],\n",
              "        [0.6202]])"
            ]
          },
          "metadata": {},
          "execution_count": 50
        }
      ]
    },
    {
      "cell_type": "markdown",
      "source": [
        "## Tensor Data Types"
      ],
      "metadata": {
        "id": "857xpXdiRJLU"
      }
    },
    {
      "cell_type": "code",
      "source": [
        "x.dtype"
      ],
      "metadata": {
        "colab": {
          "base_uri": "https://localhost:8080/"
        },
        "id": "rgOIG1leRHko",
        "outputId": "1b7ea2a1-6854-48f6-964b-4c54e5852c89"
      },
      "execution_count": 43,
      "outputs": [
        {
          "output_type": "execute_result",
          "data": {
            "text/plain": [
              "torch.int64"
            ]
          },
          "metadata": {},
          "execution_count": 43
        }
      ]
    },
    {
      "cell_type": "code",
      "source": [
        "torch.tensor([[1,2,3], [4,5,6]], dtype=torch.float32)"
      ],
      "metadata": {
        "colab": {
          "base_uri": "https://localhost:8080/"
        },
        "id": "NoFhXBNWRPMd",
        "outputId": "46346f02-e342-4aa1-bd9a-53515be5cc97"
      },
      "execution_count": 45,
      "outputs": [
        {
          "output_type": "execute_result",
          "data": {
            "text/plain": [
              "tensor([[1., 2., 3.],\n",
              "        [4., 5., 6.]])"
            ]
          },
          "metadata": {},
          "execution_count": 45
        }
      ]
    },
    {
      "cell_type": "code",
      "source": [
        "#using to\n",
        "x.to(torch.float32)"
      ],
      "metadata": {
        "colab": {
          "base_uri": "https://localhost:8080/"
        },
        "id": "rrAIFCI5RVzX",
        "outputId": "b88f5819-229d-43ad-9919-48026a9488c7"
      },
      "execution_count": 47,
      "outputs": [
        {
          "output_type": "execute_result",
          "data": {
            "text/plain": [
              "tensor([[1.],\n",
              "        [4.]])"
            ]
          },
          "metadata": {},
          "execution_count": 47
        }
      ]
    },
    {
      "cell_type": "markdown",
      "source": [
        "## Mathematical Operations"
      ],
      "metadata": {
        "id": "EPZRL-l0R6bp"
      }
    },
    {
      "cell_type": "markdown",
      "source": [
        "### 1. Scalar Operations"
      ],
      "metadata": {
        "id": "FlXtzXAaSQGm"
      }
    },
    {
      "cell_type": "code",
      "source": [
        "x = torch.tensor([[1, 2, 3], [4, 5, 6]], dtype=torch.float32)\n",
        "x"
      ],
      "metadata": {
        "id": "yxzeRqGnRewj"
      },
      "execution_count": 51,
      "outputs": []
    },
    {
      "cell_type": "code",
      "source": [
        "#addition\n",
        "x + 2\n",
        "#substraction\n",
        "x - 1\n",
        "#mutliplication\n",
        "2 * x\n",
        "#division (float32)\n",
        "x / 3\n",
        "#int division\n",
        "(x*5)//3\n",
        "#mod\n",
        "((x*5)//3)%2\n",
        "#scalar\n",
        "x**2"
      ],
      "metadata": {
        "colab": {
          "base_uri": "https://localhost:8080/"
        },
        "id": "cOS0Gb9PRlwo",
        "outputId": "4cd9f832-2c8d-41d7-fca7-2c183d8ceb5e"
      },
      "execution_count": 60,
      "outputs": [
        {
          "output_type": "execute_result",
          "data": {
            "text/plain": [
              "tensor([[ 1.,  4.,  9.],\n",
              "        [16., 25., 36.]])"
            ]
          },
          "metadata": {},
          "execution_count": 60
        }
      ]
    },
    {
      "cell_type": "markdown",
      "source": [
        "### 2. Element Wise Operations"
      ],
      "metadata": {
        "id": "5PWKYYC9TRXN"
      }
    },
    {
      "cell_type": "code",
      "source": [
        "a = torch.rand(2,3)\n",
        "b = torch.ones(2,3)\n",
        "b[0][0] = 2\n",
        "print(a)\n",
        "print(b)"
      ],
      "metadata": {
        "colab": {
          "base_uri": "https://localhost:8080/"
        },
        "id": "z3mUduruSdzf",
        "outputId": "980d1144-98f5-4f78-c38c-60df828419dc"
      },
      "execution_count": 14,
      "outputs": [
        {
          "output_type": "stream",
          "name": "stdout",
          "text": [
            "tensor([[0.3067, 0.5635, 0.2745],\n",
            "        [0.8311, 0.9233, 0.8133]])\n",
            "tensor([[2., 1., 1.],\n",
            "        [1., 1., 1.]])\n"
          ]
        }
      ]
    },
    {
      "cell_type": "code",
      "source": [
        "#add\n",
        "a + b\n",
        "#subtraction\n",
        "a - b\n",
        "# multiply\n",
        "a * b\n",
        "# division\n",
        "a / b\n",
        "#int division\n",
        "a // b\n",
        "#power\n",
        "a ** b"
      ],
      "metadata": {
        "colab": {
          "base_uri": "https://localhost:8080/"
        },
        "id": "P6q9Ha4eTfPO",
        "outputId": "aada29a8-df24-489a-87ea-66d0c17c401b"
      },
      "execution_count": 15,
      "outputs": [
        {
          "output_type": "execute_result",
          "data": {
            "text/plain": [
              "tensor([[0.0940, 0.5635, 0.2745],\n",
              "        [0.8311, 0.9233, 0.8133]])"
            ]
          },
          "metadata": {},
          "execution_count": 15
        }
      ]
    },
    {
      "cell_type": "code",
      "source": [
        "# other operations - abs, neg, ceil, round, floor, clamp\n",
        "torch.clamp(a, min=0.1, max=0.4)"
      ],
      "metadata": {
        "colab": {
          "base_uri": "https://localhost:8080/"
        },
        "id": "WpvvnKGGTvEd",
        "outputId": "7ec60e16-f2a0-45f8-9e9d-8cf2f0420673"
      },
      "execution_count": 18,
      "outputs": [
        {
          "output_type": "execute_result",
          "data": {
            "text/plain": [
              "tensor([[0.3067, 0.4000, 0.2745],\n",
              "        [0.4000, 0.4000, 0.4000]])"
            ]
          },
          "metadata": {},
          "execution_count": 18
        }
      ]
    },
    {
      "cell_type": "markdown",
      "source": [
        "### 3. Reduction Operation"
      ],
      "metadata": {
        "id": "6sC9fAq5VFck"
      }
    },
    {
      "cell_type": "code",
      "source": [
        "e = torch.randint(size=(2,4), low=1, high=9, dtype=torch.float32)\n",
        "e[1][0] = 0\n",
        "e"
      ],
      "metadata": {
        "colab": {
          "base_uri": "https://localhost:8080/"
        },
        "id": "zgwXJdgAUytr",
        "outputId": "f363acdb-bc47-4e69-ca83-6f37adcb5fc6"
      },
      "execution_count": 37,
      "outputs": [
        {
          "output_type": "execute_result",
          "data": {
            "text/plain": [
              "tensor([[1., 6., 5., 3.],\n",
              "        [0., 8., 4., 4.]])"
            ]
          },
          "metadata": {},
          "execution_count": 37
        }
      ]
    },
    {
      "cell_type": "code",
      "source": [
        "#sum of all elements\n",
        "torch.sum(e)\n",
        "# sum along columns\n",
        "torch.sum(e, dim=0)\n",
        "#sum along rows\n",
        "torch.sum(e, dim=1)"
      ],
      "metadata": {
        "colab": {
          "base_uri": "https://localhost:8080/"
        },
        "id": "iSGNRGueVRMW",
        "outputId": "74944974-5690-4e1c-a90d-1258e98d03dd"
      },
      "execution_count": 28,
      "outputs": [
        {
          "output_type": "execute_result",
          "data": {
            "text/plain": [
              "tensor([24., 18.])"
            ]
          },
          "metadata": {},
          "execution_count": 28
        }
      ]
    },
    {
      "cell_type": "code",
      "source": [
        "#mean\n",
        "torch.mean(e)\n",
        "#mean along columns\n",
        "torch.mean(e, dim=0)\n",
        "# mean along rows\n",
        "torch.mean(e, dim=1)"
      ],
      "metadata": {
        "colab": {
          "base_uri": "https://localhost:8080/"
        },
        "id": "tb92ys5yVs5W",
        "outputId": "f33bca4c-b1ad-49f3-a270-1d0a4c4eaf25"
      },
      "execution_count": 31,
      "outputs": [
        {
          "output_type": "execute_result",
          "data": {
            "text/plain": [
              "tensor([6.0000, 4.5000])"
            ]
          },
          "metadata": {},
          "execution_count": 31
        }
      ]
    },
    {
      "cell_type": "code",
      "source": [
        "# other operations - max, min, median, prod : product of all items\n",
        "torch.prod(e)\n",
        "torch.median(e)\n",
        "torch.max(e)"
      ],
      "metadata": {
        "colab": {
          "base_uri": "https://localhost:8080/"
        },
        "id": "v-ykzzIAWGJB",
        "outputId": "8016f775-f064-4fc6-e045-c69fbbb09158"
      },
      "execution_count": 34,
      "outputs": [
        {
          "output_type": "execute_result",
          "data": {
            "text/plain": [
              "tensor(8.)"
            ]
          },
          "metadata": {},
          "execution_count": 34
        }
      ]
    },
    {
      "cell_type": "code",
      "source": [
        "# standard deviation, variance\n",
        "torch.std(e), torch.var(e)"
      ],
      "metadata": {
        "colab": {
          "base_uri": "https://localhost:8080/"
        },
        "id": "J42ubaUoWrUr",
        "outputId": "17b29a8b-86f6-4f98-c571-a7b36b3c8f2e"
      },
      "execution_count": 35,
      "outputs": [
        {
          "output_type": "execute_result",
          "data": {
            "text/plain": [
              "(tensor(2.6049), tensor(6.7857))"
            ]
          },
          "metadata": {},
          "execution_count": 35
        }
      ]
    },
    {
      "cell_type": "code",
      "source": [
        "torch.argmax(e)"
      ],
      "metadata": {
        "colab": {
          "base_uri": "https://localhost:8080/"
        },
        "id": "-TRmPd5dW6KD",
        "outputId": "b20a4321-43b8-463c-e186-bcf108b6ec4b"
      },
      "execution_count": 38,
      "outputs": [
        {
          "output_type": "execute_result",
          "data": {
            "text/plain": [
              "tensor(5)"
            ]
          },
          "metadata": {},
          "execution_count": 38
        }
      ]
    },
    {
      "cell_type": "code",
      "source": [
        "torch.argmin(e)"
      ],
      "metadata": {
        "colab": {
          "base_uri": "https://localhost:8080/"
        },
        "id": "JRAn4vgAXIIN",
        "outputId": "ef8b0323-be87-4176-f2da-afc505cfa197"
      },
      "execution_count": 39,
      "outputs": [
        {
          "output_type": "execute_result",
          "data": {
            "text/plain": [
              "tensor(4)"
            ]
          },
          "metadata": {},
          "execution_count": 39
        }
      ]
    },
    {
      "cell_type": "markdown",
      "source": [
        "### 4. Matrix Operations"
      ],
      "metadata": {
        "id": "e6N4xe7rYMaK"
      }
    },
    {
      "cell_type": "code",
      "source": [
        "f = torch.randint(size=(2,3), low=1, high=10)\n",
        "g = torch.randint(size=(3,2), low=1, high=9)\n",
        "\n",
        "print(f)\n",
        "print(g)"
      ],
      "metadata": {
        "colab": {
          "base_uri": "https://localhost:8080/"
        },
        "id": "diNy57xWXYPl",
        "outputId": "a6801cd2-547b-4cb6-efa8-8ebf0ad96b13"
      },
      "execution_count": 40,
      "outputs": [
        {
          "output_type": "stream",
          "name": "stdout",
          "text": [
            "tensor([[3, 7, 1],\n",
            "        [3, 7, 8]])\n",
            "tensor([[2, 6],\n",
            "        [3, 1],\n",
            "        [7, 1]])\n"
          ]
        }
      ]
    },
    {
      "cell_type": "code",
      "source": [
        "#matrix multiplication\n",
        "torch.matmul(f,g)"
      ],
      "metadata": {
        "colab": {
          "base_uri": "https://localhost:8080/"
        },
        "id": "eSu_0RNuYfFF",
        "outputId": "01241e12-7197-429c-bb31-01519fb84ff2"
      },
      "execution_count": 41,
      "outputs": [
        {
          "output_type": "execute_result",
          "data": {
            "text/plain": [
              "tensor([[34, 26],\n",
              "        [83, 33]])"
            ]
          },
          "metadata": {},
          "execution_count": 41
        }
      ]
    },
    {
      "cell_type": "code",
      "source": [
        "vector1 = torch.tensor([2, 2])\n",
        "vector2 = torch.tensor([3, 4])\n",
        "\n",
        "# dot product\n",
        "torch.dot(vector1, vector2)"
      ],
      "metadata": {
        "colab": {
          "base_uri": "https://localhost:8080/"
        },
        "id": "jbi5GskrYpOM",
        "outputId": "d17f1422-e03b-47eb-d191-b4fc41da998d"
      },
      "execution_count": 45,
      "outputs": [
        {
          "output_type": "execute_result",
          "data": {
            "text/plain": [
              "tensor(14)"
            ]
          },
          "metadata": {},
          "execution_count": 45
        }
      ]
    },
    {
      "cell_type": "code",
      "source": [
        "#transpose\n",
        "torch.transpose(f, 0, 1)"
      ],
      "metadata": {
        "colab": {
          "base_uri": "https://localhost:8080/"
        },
        "id": "2GxzAQcUZbmN",
        "outputId": "b23aa793-b767-4b05-b327-a1709773b51c"
      },
      "execution_count": 46,
      "outputs": [
        {
          "output_type": "execute_result",
          "data": {
            "text/plain": [
              "tensor([[3, 3],\n",
              "        [7, 7],\n",
              "        [1, 8]])"
            ]
          },
          "metadata": {},
          "execution_count": 46
        }
      ]
    },
    {
      "cell_type": "code",
      "source": [
        "#other operations: determinant: det(), inverse: inverse()"
      ],
      "metadata": {
        "id": "K8rLQRJnaONN"
      },
      "execution_count": 47,
      "outputs": []
    },
    {
      "cell_type": "markdown",
      "source": [
        "### 6.Special Functions"
      ],
      "metadata": {
        "id": "m-rXmxrna1E_"
      }
    },
    {
      "cell_type": "code",
      "source": [
        "h = torch.randint(size=(2,3), low=1, high=10, dtype=torch.float32)\n",
        "h"
      ],
      "metadata": {
        "colab": {
          "base_uri": "https://localhost:8080/"
        },
        "id": "Q8BxD_z5aaNu",
        "outputId": "a1b6bbee-fe7a-433a-de76-35ba60e0f064"
      },
      "execution_count": 49,
      "outputs": [
        {
          "output_type": "execute_result",
          "data": {
            "text/plain": [
              "tensor([[4., 2., 7.],\n",
              "        [1., 9., 4.]])"
            ]
          },
          "metadata": {},
          "execution_count": 49
        }
      ]
    },
    {
      "cell_type": "code",
      "source": [
        "#log\n",
        "torch.log(h)"
      ],
      "metadata": {
        "colab": {
          "base_uri": "https://localhost:8080/"
        },
        "id": "MF7unqGdbEOL",
        "outputId": "3f9ecf73-2c74-4987-fc2e-6b7de297ba77"
      },
      "execution_count": 50,
      "outputs": [
        {
          "output_type": "execute_result",
          "data": {
            "text/plain": [
              "tensor([[1.3863, 0.6931, 1.9459],\n",
              "        [0.0000, 2.1972, 1.3863]])"
            ]
          },
          "metadata": {},
          "execution_count": 50
        }
      ]
    },
    {
      "cell_type": "code",
      "source": [
        "#exp\n",
        "torch.exp(h)"
      ],
      "metadata": {
        "colab": {
          "base_uri": "https://localhost:8080/"
        },
        "id": "2A78LcWjbLik",
        "outputId": "13a92d36-95fa-429f-847a-6b3b0fc2754a"
      },
      "execution_count": 51,
      "outputs": [
        {
          "output_type": "execute_result",
          "data": {
            "text/plain": [
              "tensor([[5.4598e+01, 7.3891e+00, 1.0966e+03],\n",
              "        [2.7183e+00, 8.1031e+03, 5.4598e+01]])"
            ]
          },
          "metadata": {},
          "execution_count": 51
        }
      ]
    },
    {
      "cell_type": "code",
      "source": [
        "#sqrt\n",
        "torch.sqrt(h)"
      ],
      "metadata": {
        "colab": {
          "base_uri": "https://localhost:8080/"
        },
        "id": "m9-6ZKtobOR7",
        "outputId": "ae13ed00-6901-47b0-a807-3e8b056abf10"
      },
      "execution_count": 53,
      "outputs": [
        {
          "output_type": "execute_result",
          "data": {
            "text/plain": [
              "tensor([[2.0000, 1.4142, 2.6458],\n",
              "        [1.0000, 3.0000, 2.0000]])"
            ]
          },
          "metadata": {},
          "execution_count": 53
        }
      ]
    },
    {
      "cell_type": "code",
      "source": [
        "#sigmoid\n",
        "torch.sigmoid(h)"
      ],
      "metadata": {
        "colab": {
          "base_uri": "https://localhost:8080/"
        },
        "id": "w9WSsozfbU4Z",
        "outputId": "0ffcc262-148c-4559-8147-ab307660abbd"
      },
      "execution_count": 54,
      "outputs": [
        {
          "output_type": "execute_result",
          "data": {
            "text/plain": [
              "tensor([[0.9820, 0.8808, 0.9991],\n",
              "        [0.7311, 0.9999, 0.9820]])"
            ]
          },
          "metadata": {},
          "execution_count": 54
        }
      ]
    },
    {
      "cell_type": "code",
      "source": [
        "#softmax\n",
        "torch.softmax(h, dim=0)"
      ],
      "metadata": {
        "colab": {
          "base_uri": "https://localhost:8080/"
        },
        "id": "kcnnyCEXbcmd",
        "outputId": "ff862c74-0505-472e-e049-8c240c9207b9"
      },
      "execution_count": 56,
      "outputs": [
        {
          "output_type": "execute_result",
          "data": {
            "text/plain": [
              "tensor([[9.5257e-01, 9.1105e-04, 9.5257e-01],\n",
              "        [4.7426e-02, 9.9909e-01, 4.7426e-02]])"
            ]
          },
          "metadata": {},
          "execution_count": 56
        }
      ]
    },
    {
      "cell_type": "code",
      "source": [
        "#relu\n",
        "torch.relu(h)"
      ],
      "metadata": {
        "colab": {
          "base_uri": "https://localhost:8080/"
        },
        "id": "Y3G1pn_ubjP4",
        "outputId": "cefe764b-2e96-435c-ae38-440c003ad884"
      },
      "execution_count": 57,
      "outputs": [
        {
          "output_type": "execute_result",
          "data": {
            "text/plain": [
              "tensor([[4., 2., 7.],\n",
              "        [1., 9., 4.]])"
            ]
          },
          "metadata": {},
          "execution_count": 57
        }
      ]
    },
    {
      "cell_type": "markdown",
      "source": [
        "## Inplace Operations"
      ],
      "metadata": {
        "id": "IDt1dHvUcXJi"
      }
    },
    {
      "cell_type": "code",
      "source": [
        "m = torch.randint(size=(2,3), low=1, high=10, dtype=torch.float32)\n",
        "n = torch.randint(size=(2,3), low=1, high=10, dtype=torch.float32)\n",
        "\n",
        "print(m)\n",
        "print(n)"
      ],
      "metadata": {
        "colab": {
          "base_uri": "https://localhost:8080/"
        },
        "id": "e_03q_Wcbqoe",
        "outputId": "a8367bd0-9d69-41d4-9e91-7319f97033c3"
      },
      "execution_count": 61,
      "outputs": [
        {
          "output_type": "stream",
          "name": "stdout",
          "text": [
            "tensor([[3., 4., 4.],\n",
            "        [6., 3., 5.]])\n",
            "tensor([[1., 5., 6.],\n",
            "        [4., 5., 7.]])\n"
          ]
        }
      ]
    },
    {
      "cell_type": "code",
      "source": [
        "m.add_(n)\n",
        "m"
      ],
      "metadata": {
        "colab": {
          "base_uri": "https://localhost:8080/"
        },
        "id": "H5glz29ycpcy",
        "outputId": "167b453a-5d70-4a57-de0d-6bc26b2f2fe6"
      },
      "execution_count": 62,
      "outputs": [
        {
          "output_type": "execute_result",
          "data": {
            "text/plain": [
              "tensor([[ 4.,  9., 10.],\n",
              "        [10.,  8., 12.]])"
            ]
          },
          "metadata": {},
          "execution_count": 62
        }
      ]
    },
    {
      "cell_type": "code",
      "source": [
        "torch.relu(m)"
      ],
      "metadata": {
        "colab": {
          "base_uri": "https://localhost:8080/"
        },
        "id": "2CX04bw0ctlj",
        "outputId": "23b65e43-ab3d-49ee-c892-916bb610a60b"
      },
      "execution_count": 63,
      "outputs": [
        {
          "output_type": "execute_result",
          "data": {
            "text/plain": [
              "tensor([[ 4.,  9., 10.],\n",
              "        [10.,  8., 12.]])"
            ]
          },
          "metadata": {},
          "execution_count": 63
        }
      ]
    },
    {
      "cell_type": "code",
      "source": [
        "m[0][0] = -1\n",
        "m.relu_()"
      ],
      "metadata": {
        "colab": {
          "base_uri": "https://localhost:8080/"
        },
        "id": "toxIeV0zdBRp",
        "outputId": "66a6e91b-6cf3-4a23-a69e-41840ab6b084"
      },
      "execution_count": 65,
      "outputs": [
        {
          "output_type": "execute_result",
          "data": {
            "text/plain": [
              "tensor([[ 0.,  9., 10.],\n",
              "        [10.,  8., 12.]])"
            ]
          },
          "metadata": {},
          "execution_count": 65
        }
      ]
    },
    {
      "cell_type": "markdown",
      "source": [
        "## Copying a tensor\n",
        "- tensor is a reference type"
      ],
      "metadata": {
        "id": "G6AsjyA0dcOI"
      }
    },
    {
      "cell_type": "code",
      "source": [
        "m = torch.rand(2, 3)\n",
        "m"
      ],
      "metadata": {
        "colab": {
          "base_uri": "https://localhost:8080/"
        },
        "id": "fJQ4nQh2dDVg",
        "outputId": "62473ff0-9264-4e8e-d0ff-c55026c29d95"
      },
      "execution_count": 67,
      "outputs": [
        {
          "output_type": "execute_result",
          "data": {
            "text/plain": [
              "tensor([[0.3085, 0.5938, 0.2521],\n",
              "        [0.8854, 0.3696, 0.6408]])"
            ]
          },
          "metadata": {},
          "execution_count": 67
        }
      ]
    },
    {
      "cell_type": "code",
      "source": [
        "a = m"
      ],
      "metadata": {
        "id": "I2cF5CnUduwS"
      },
      "execution_count": 69,
      "outputs": []
    },
    {
      "cell_type": "code",
      "source": [
        "id(a), id(m) #same location"
      ],
      "metadata": {
        "colab": {
          "base_uri": "https://localhost:8080/"
        },
        "id": "6v-385god1sq",
        "outputId": "09055587-1e65-44e9-9e70-d9b33814d2e7"
      },
      "execution_count": 71,
      "outputs": [
        {
          "output_type": "execute_result",
          "data": {
            "text/plain": [
              "(133186665997488, 133186665997488)"
            ]
          },
          "metadata": {},
          "execution_count": 71
        }
      ]
    },
    {
      "cell_type": "code",
      "source": [
        "b = a.clone()"
      ],
      "metadata": {
        "id": "mIDNqXD6eFM-"
      },
      "execution_count": 72,
      "outputs": []
    },
    {
      "cell_type": "code",
      "source": [
        "id(a), id(b)"
      ],
      "metadata": {
        "colab": {
          "base_uri": "https://localhost:8080/"
        },
        "id": "g8f7beyyeTVQ",
        "outputId": "68f04890-10b4-4d39-d548-3682bee45d8e"
      },
      "execution_count": 73,
      "outputs": [
        {
          "output_type": "execute_result",
          "data": {
            "text/plain": [
              "(133186665997488, 133186650906672)"
            ]
          },
          "metadata": {},
          "execution_count": 73
        }
      ]
    },
    {
      "cell_type": "markdown",
      "source": [
        "# Tensor Operations on GPU"
      ],
      "metadata": {
        "id": "YqMUtLJuei2c"
      }
    },
    {
      "cell_type": "code",
      "source": [
        "torch.cuda.is_available()"
      ],
      "metadata": {
        "colab": {
          "base_uri": "https://localhost:8080/"
        },
        "id": "VM9IyyoUeUq9",
        "outputId": "4d0581ca-3816-4f09-9ca8-63f59c6a989c"
      },
      "execution_count": 75,
      "outputs": [
        {
          "output_type": "execute_result",
          "data": {
            "text/plain": [
              "True"
            ]
          },
          "metadata": {},
          "execution_count": 75
        }
      ]
    },
    {
      "cell_type": "code",
      "source": [
        "device = torch.device('cuda')"
      ],
      "metadata": {
        "id": "nKvsZaC1epMe"
      },
      "execution_count": 76,
      "outputs": []
    },
    {
      "cell_type": "code",
      "source": [
        "#creating a new tensor on GPU\n",
        "torch.rand(size=(2,3), device = device)"
      ],
      "metadata": {
        "colab": {
          "base_uri": "https://localhost:8080/"
        },
        "id": "WDSRvscQezoJ",
        "outputId": "242ad4dd-9b91-4991-8173-48e7dffcbe57"
      },
      "execution_count": 78,
      "outputs": [
        {
          "output_type": "execute_result",
          "data": {
            "text/plain": [
              "tensor([[0.5541, 0.3540, 0.3769],\n",
              "        [0.1852, 0.4650, 0.8695]], device='cuda:0')"
            ]
          },
          "metadata": {},
          "execution_count": 78
        }
      ]
    },
    {
      "cell_type": "code",
      "source": [
        "# moving an existing tensor to GPU\n",
        "a = torch.rand(2,3)\n",
        "a"
      ],
      "metadata": {
        "colab": {
          "base_uri": "https://localhost:8080/"
        },
        "id": "Q6XaoUC2fA3c",
        "outputId": "12bcdf4f-1a44-4ba4-c07f-74809ae73912"
      },
      "execution_count": 79,
      "outputs": [
        {
          "output_type": "execute_result",
          "data": {
            "text/plain": [
              "tensor([[0.2680, 0.6558, 0.5370],\n",
              "        [0.6661, 0.3634, 0.5999]])"
            ]
          },
          "metadata": {},
          "execution_count": 79
        }
      ]
    },
    {
      "cell_type": "code",
      "source": [
        "b= a.to(device)\n",
        "b + 6"
      ],
      "metadata": {
        "colab": {
          "base_uri": "https://localhost:8080/"
        },
        "id": "Ck-cW_TJfjl9",
        "outputId": "90b43c76-ca34-490b-ad43-3cb8a9479756"
      },
      "execution_count": 82,
      "outputs": [
        {
          "output_type": "execute_result",
          "data": {
            "text/plain": [
              "tensor([[6.2680, 6.6558, 6.5370],\n",
              "        [6.6661, 6.3634, 6.5999]], device='cuda:0')"
            ]
          },
          "metadata": {},
          "execution_count": 82
        }
      ]
    },
    {
      "cell_type": "code",
      "source": [
        "import time\n",
        "matrix1 = torch.randint(size=(10000,10000), low=1, high=5, dtype=torch.float32)\n",
        "matrix2 = torch.randint(size=(10000,10000), low=1, high=5, dtype=torch.float32)\n",
        "\n",
        "start_time = time.time()\n",
        "operation = torch.matmul(matrix1, matrix2)\n",
        "end_time = time.time()\n",
        "cpu_time = end_time - start_time\n",
        "print(f'CPU Time: {end_time - start_time}')\n",
        "\n",
        "# move the matrices to cuda\n",
        "mat1 = matrix1.to('cuda')\n",
        "mat2 = matrix2.to('cuda')\n",
        "\n",
        "start_time = time.time()\n",
        "operation = torch.matmul(mat1, mat2)\n",
        "torch.cuda.synchronize() #Ensure all GPU operations are complete\n",
        "end_time = time.time()\n",
        "gpu_time = end_time - start_time\n",
        "print(f'GPU Time: {end_time - start_time}')\n",
        "print(f'\\n\\nSpeedup : {cpu_time/ gpu_time}')"
      ],
      "metadata": {
        "colab": {
          "base_uri": "https://localhost:8080/"
        },
        "id": "Ft4dNYFxfnsF",
        "outputId": "2b11e341-4f0d-42bb-9236-27a7629084f8"
      },
      "execution_count": 87,
      "outputs": [
        {
          "output_type": "stream",
          "name": "stdout",
          "text": [
            "CPU Time: 24.38279891014099\n",
            "GPU Time: 0.47296762466430664\n",
            "\n",
            "\n",
            "Speedup : 51.55278636132213\n"
          ]
        }
      ]
    },
    {
      "cell_type": "markdown",
      "source": [
        "## Reshaping Tensors"
      ],
      "metadata": {
        "id": "d8rlrUD4ic-i"
      }
    },
    {
      "cell_type": "code",
      "source": [
        "a = torch.rand(size=(3,4))\n",
        "a"
      ],
      "metadata": {
        "colab": {
          "base_uri": "https://localhost:8080/"
        },
        "id": "wvlK8PsYgewk",
        "outputId": "51030b01-2849-45a5-f698-4cd4fdb0ff9e"
      },
      "execution_count": 89,
      "outputs": [
        {
          "output_type": "execute_result",
          "data": {
            "text/plain": [
              "tensor([[0.5614, 0.0360, 0.1105, 0.8054],\n",
              "        [0.8556, 0.1509, 0.2136, 0.3718],\n",
              "        [0.0014, 0.4202, 0.3991, 0.2220]])"
            ]
          },
          "metadata": {},
          "execution_count": 89
        }
      ]
    },
    {
      "cell_type": "markdown",
      "source": [
        "## Reshape"
      ],
      "metadata": {
        "id": "1wNIs_glFjf5"
      }
    },
    {
      "cell_type": "code",
      "source": [
        "a = torch.randint(size=(4,4), low=1, high=10, dtype=torch.float32)\n",
        "a"
      ],
      "metadata": {
        "colab": {
          "base_uri": "https://localhost:8080/"
        },
        "id": "XmazC7Nqiiqk",
        "outputId": "8789f5fa-d8d9-410e-8641-83df842f6399"
      },
      "execution_count": 2,
      "outputs": [
        {
          "output_type": "execute_result",
          "data": {
            "text/plain": [
              "tensor([[9., 5., 5., 6.],\n",
              "        [7., 6., 6., 7.],\n",
              "        [5., 6., 3., 2.],\n",
              "        [9., 6., 2., 2.]])"
            ]
          },
          "metadata": {},
          "execution_count": 2
        }
      ]
    },
    {
      "cell_type": "code",
      "source": [
        "a.to('cuda')\n",
        "a"
      ],
      "metadata": {
        "colab": {
          "base_uri": "https://localhost:8080/"
        },
        "id": "_N8_OxvtFt90",
        "outputId": "8cbd186b-a894-4746-aa93-dd35f4dc5376"
      },
      "execution_count": 3,
      "outputs": [
        {
          "output_type": "execute_result",
          "data": {
            "text/plain": [
              "tensor([[9., 5., 5., 6.],\n",
              "        [7., 6., 6., 7.],\n",
              "        [5., 6., 3., 2.],\n",
              "        [9., 6., 2., 2.]])"
            ]
          },
          "metadata": {},
          "execution_count": 3
        }
      ]
    },
    {
      "cell_type": "code",
      "source": [
        "a.reshape(2,2,2,2)"
      ],
      "metadata": {
        "colab": {
          "base_uri": "https://localhost:8080/"
        },
        "id": "6u52KnJHFyGW",
        "outputId": "76cd4842-9102-4745-941b-a4a4203c6479"
      },
      "execution_count": 4,
      "outputs": [
        {
          "output_type": "execute_result",
          "data": {
            "text/plain": [
              "tensor([[[[9., 5.],\n",
              "          [5., 6.]],\n",
              "\n",
              "         [[7., 6.],\n",
              "          [6., 7.]]],\n",
              "\n",
              "\n",
              "        [[[5., 6.],\n",
              "          [3., 2.]],\n",
              "\n",
              "         [[9., 6.],\n",
              "          [2., 2.]]]])"
            ]
          },
          "metadata": {},
          "execution_count": 4
        }
      ]
    },
    {
      "cell_type": "code",
      "source": [
        "a.flatten()"
      ],
      "metadata": {
        "colab": {
          "base_uri": "https://localhost:8080/"
        },
        "id": "tnlNS5yJF8B9",
        "outputId": "a36386f5-4c97-4d8e-95dc-f0a149188364"
      },
      "execution_count": 5,
      "outputs": [
        {
          "output_type": "execute_result",
          "data": {
            "text/plain": [
              "tensor([9., 5., 5., 6., 7., 6., 6., 7., 5., 6., 3., 2., 9., 6., 2., 2.])"
            ]
          },
          "metadata": {},
          "execution_count": 5
        }
      ]
    },
    {
      "cell_type": "code",
      "source": [
        "#permute\n",
        "a = torch.rand(size=(2,3,4), device='cuda')"
      ],
      "metadata": {
        "colab": {
          "base_uri": "https://localhost:8080/"
        },
        "id": "yaW0HOE8F-_3",
        "outputId": "469152e5-0ece-41f3-8165-c1c824a803ad"
      },
      "execution_count": 8,
      "outputs": [
        {
          "output_type": "execute_result",
          "data": {
            "text/plain": [
              "tensor([[[0.8344, 0.1561, 0.7609, 0.1783],\n",
              "         [0.7894, 0.2516, 0.1488, 0.0014],\n",
              "         [0.1754, 0.2686, 0.6986, 0.6644]],\n",
              "\n",
              "        [[0.6507, 0.0479, 0.2309, 0.4813],\n",
              "         [0.3113, 0.0030, 0.8182, 0.5626],\n",
              "         [0.2192, 0.5422, 0.7838, 0.1723]]], device='cuda:0')"
            ]
          },
          "metadata": {},
          "execution_count": 8
        }
      ]
    },
    {
      "cell_type": "code",
      "source": [
        "#permute\n",
        "a.permute(2,0,1).shape"
      ],
      "metadata": {
        "colab": {
          "base_uri": "https://localhost:8080/"
        },
        "id": "mwQY6-JdGEfj",
        "outputId": "bb5036ad-28a0-429c-b839-06a78bcd7543"
      },
      "execution_count": 9,
      "outputs": [
        {
          "output_type": "execute_result",
          "data": {
            "text/plain": [
              "torch.Size([4, 2, 3])"
            ]
          },
          "metadata": {},
          "execution_count": 9
        }
      ]
    },
    {
      "cell_type": "code",
      "source": [
        "#unsqueeze\n",
        "c = torch.rand(226, 226, 3)\n",
        "c.unsqueeze(0).shape"
      ],
      "metadata": {
        "colab": {
          "base_uri": "https://localhost:8080/"
        },
        "id": "JrUQfOaxGXLh",
        "outputId": "d420ddea-4d33-4ca5-e53c-0516d6816676"
      },
      "execution_count": 10,
      "outputs": [
        {
          "output_type": "execute_result",
          "data": {
            "text/plain": [
              "torch.Size([1, 226, 226, 3])"
            ]
          },
          "metadata": {},
          "execution_count": 10
        }
      ]
    },
    {
      "cell_type": "code",
      "source": [
        "#squeeze\n",
        "d = torch.rand(1, 20)\n",
        "d.squeeze(0).shape"
      ],
      "metadata": {
        "colab": {
          "base_uri": "https://localhost:8080/"
        },
        "id": "Xe7FfyxnG2U3",
        "outputId": "7822d413-51da-420f-ddd0-907b961aa160"
      },
      "execution_count": 11,
      "outputs": [
        {
          "output_type": "execute_result",
          "data": {
            "text/plain": [
              "torch.Size([20])"
            ]
          },
          "metadata": {},
          "execution_count": 11
        }
      ]
    },
    {
      "cell_type": "code",
      "source": [],
      "metadata": {
        "id": "eHrM5VLjHAsf"
      },
      "execution_count": null,
      "outputs": []
    }
  ]
}